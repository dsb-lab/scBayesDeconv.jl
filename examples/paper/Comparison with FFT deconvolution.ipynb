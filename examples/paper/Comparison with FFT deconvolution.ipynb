{
 "cells": [
  {
   "cell_type": "markdown",
   "source": [
    "# Comparison with FFT deconvolution methods\n",
    "\n",
    "In this scrip we compare our method with the proposed method of Neumann [Neumann & Hössjer](https://www.tandfonline.com/doi/abs/10.1080/10485259708832708) for the deconvolution of distributions.\n",
    "\n",
    "This method, as proposed is one dimensional altough it could be in general extended to many dimensions. In the following we will see the artifacts that this method generates."
   ],
   "metadata": {}
  },
  {
   "cell_type": "code",
   "execution_count": 1,
   "source": [
    "using Distributions\n",
    "using Random\n",
    "using Plots\n",
    "using Plots.Measures\n",
    "using scBayesDeconv"
   ],
   "outputs": [],
   "metadata": {}
  },
  {
   "cell_type": "markdown",
   "source": [
    "## Create distributions and samples"
   ],
   "metadata": {}
  },
  {
   "cell_type": "code",
   "execution_count": 2,
   "source": [
    "N = 5000\n",
    "snr = 2\n",
    "dn = Normal(0,1)\n",
    "dt = MixtureModel([\n",
    "    Normal(-.43,0.6),\n",
    "    Normal(1.67,0.6),\n",
    "    ],[.8,.2])\n",
    "\n",
    "noise = rand(dn,N)/snr\n",
    "target = rand(dt,N)\n",
    "convolution = rand(dn,N)/snr+rand(dt,N);\n",
    "\n",
    "# reshape data so it has the required shape of (samples,dimensions)\n",
    "n = reshape(noise,N,1)\n",
    "t = reshape(target,N,1)\n",
    "c = reshape(convolution,N,1);"
   ],
   "outputs": [],
   "metadata": {}
  },
  {
   "cell_type": "markdown",
   "source": [
    "## Fit deconvolutions\n",
    "\n",
    "We first deconvolve using the Neumann FFT method."
   ],
   "metadata": {}
  },
  {
   "cell_type": "code",
   "execution_count": 3,
   "source": [
    "tNeumann = neumannDeconvolution(n,c);"
   ],
   "outputs": [],
   "metadata": {}
  },
  {
   "cell_type": "markdown",
   "source": [
    "And then the Bayesian method."
   ],
   "metadata": {}
  },
  {
   "cell_type": "code",
   "execution_count": 4,
   "source": [
    "dnfitted = finiteGaussianMixture(n,k=4)\n",
    "dtfitted = finiteGaussianMixtureDeconvolution(c,dnfitted,k=4);"
   ],
   "outputs": [],
   "metadata": {}
  },
  {
   "cell_type": "markdown",
   "source": [
    "## Plot results\n",
    "\n",
    "As we can see the FFT method give results that have some problems as:\n",
    "\n",
    " - It allows the deconvolved distribution to have negative values\n",
    " - The results are somehow wavy due to the fourier basis employed."
   ],
   "metadata": {}
  },
  {
   "cell_type": "code",
   "execution_count": 25,
   "source": [
    "x = -4:.01:4\n",
    "xx = reshape(x,1,length(x))\n",
    "\n",
    "p1 = histogram(convolution,bins=-4:.2:5.5,title=\"Convolution\",label=\"\",normalize=true,color=\"green\",ylabel=\"p(x)\",xlabel=\"x\")\n",
    "histogram!(noise,bins=-2:0.5:2,inset=(1,bbox(.7,.15,.25,.4)),subplot=2,bg_inside=nothing,label=\"\",normalize=true,title=\"Autofluorescence\",titlefontsize=8,color=\"magenta\",ylabel=\"p(x)\",xlabel=\"x\")\n",
    "xlims!(p1,-4,4.5)\n",
    "ylims!(p1,0,.65)\n",
    "\n",
    "p2 = histogram(target,bins=-4:.2:4,title=\"Bayesian deconvolution\",normalize=true,color=\"lightblue\",ylabel=\"p(x)\",xlabel=\"x\",label=\"Deconv. sample\")\n",
    "y = zeros(100,length(x))\n",
    "plot!(p2,x,pdf(dtfitted.samples[2],xx),color=\"red\",alpha=0.2,label=\"BD samples\")\n",
    "for i in 2:100\n",
    "    plot!(p2,x,pdf(sample(dtfitted),xx),label=\"\",color=\"red\",alpha=0.1)\n",
    "    y[i,:] = pdf(sample(dtfitted),xx)[:,1]\n",
    "end\n",
    "plot!(p2,x,mean(y,dims=1)[1,:],label=\"Bayesian mean\",color=\"black\",legendfontsize=8,linewidth=2)\n",
    "xlims!(-4,4)\n",
    "ylims!(0,.65)\n",
    "\n",
    "p3 = histogram(target,bins=-4:.2:4,title=\"FFT deconvolution\",normalize=true,color=\"lightblue\",ylabel=\"p(x)\",xlabel=\"x\",label=\"Deconv. sample\")\n",
    "plot!(p3,x,tNeumann(Vector(x)),linewidth=3,label=\"FFT decon.\")\n",
    "xlims!(-4,4)\n",
    "ylims!(-0.02,.65)\n",
    "\n",
    "fig = plot(p1,p2,p3,layout=(1,3),size=[1100,270], left_margin = 5mm, bottom_margin = 5mm)"
   ],
   "outputs": [
    {
     "output_type": "execute_result",
     "data": {
      "text/plain": [
       "\"/home2/Bulk PhD/Projects/scBayesDeconv.jl/examples/paper/Plots/Figure2.pdf\""
      ]
     },
     "metadata": {},
     "execution_count": 25
    }
   ],
   "metadata": {}
  },
  {
   "cell_type": "markdown",
   "source": [
    "## Evaluate metrics\n",
    "\n",
    "To make a more rigourous comparison, we can compare the target data distribution to the deconvolution results using evaluation metrics already implemented in scBayesPackage."
   ],
   "metadata": {}
  },
  {
   "cell_type": "code",
   "execution_count": 6,
   "source": [
    "f(x) = pdf(dt,x[1])\n",
    "mios = scBayesDeconv.metrics.mio(dtfitted,f)\n",
    "mioNeumann = scBayesDeconv.metrics.mio(tNeumann,f)\n",
    "\n",
    "println(\"Bayesian MIO: \",round(mean(mios),digits=2),\"±\",round(std(mios),digits=2))\n",
    "\n",
    "println(\"FFT MIO: \",round(mioNeumann,digits=2))"
   ],
   "outputs": [
    {
     "output_type": "stream",
     "name": "stdout",
     "text": [
      "Bayesian MIO: 0.98±0.01\n",
      "FFT MIO: 0.88\n"
     ]
    }
   ],
   "metadata": {}
  }
 ],
 "metadata": {
  "kernelspec": {
   "display_name": "Julia 1.6.3",
   "language": "julia",
   "name": "julia-1.6"
  },
  "language_info": {
   "file_extension": ".jl",
   "mimetype": "application/julia",
   "name": "julia",
   "version": "1.6.3"
  },
  "orig_nbformat": 4,
  "vscode": {
   "interpreter": {
    "hash": "f92b2924b84ff19c1c3dc485f7644d4486f64738191026bf8e6de303969141b5"
   }
  }
 },
 "nbformat": 4,
 "nbformat_minor": 2
}